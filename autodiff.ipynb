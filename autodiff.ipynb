{
  "nbformat": 4,
  "nbformat_minor": 0,
  "metadata": {
    "colab": {
      "provenance": [],
      "authorship_tag": "ABX9TyM4YdfQ8JqBgLrm47O/hovV"
    },
    "kernelspec": {
      "name": "python3",
      "display_name": "Python 3"
    },
    "language_info": {
      "name": "python"
    }
  },
  "cells": [
    {
      "cell_type": "markdown",
      "source": [
        "#Automatic Differentiation\n",
        "\n",
        "Automatic Differentiation is a core tool used to calculate derivatives which are key to machine learning. This is my personal implementation.\n",
        "\n",
        "Eric Buehler 2023"
      ],
      "metadata": {
        "id": "6PZkYrhKktTc"
      }
    },
    {
      "cell_type": "code",
      "source": [
        "#https://towardsdatascience.com/build-your-own-automatic-differentiation-program-6ecd585eec2a\n",
        "#https://e-dorigatti.github.io/math/deep%20learning/2020/04/07/autodiff.html\n",
        "#https://jingnanshi.com/blog/autodiff.html"
      ],
      "metadata": {
        "id": "-CAtru2sknMQ"
      },
      "execution_count": 125,
      "outputs": []
    },
    {
      "cell_type": "code",
      "execution_count": 126,
      "metadata": {
        "id": "T_UIIcR4pT-T"
      },
      "outputs": [],
      "source": [
        "from abc import ABC, abstractmethod\n",
        "from typing import *\n",
        "from functools import reduce"
      ]
    },
    {
      "cell_type": "code",
      "source": [
        "class DifferentiableValue(ABC):\n",
        "    @abstractmethod\n",
        "    def backward(self, var):\n",
        "        pass\n",
        "\n",
        "    @abstractmethod\n",
        "    def forward(self):\n",
        "        pass\n",
        "\n",
        "    @abstractmethod\n",
        "    def __repr__(self) -> str:\n",
        "        pass"
      ],
      "metadata": {
        "id": "-z244F_fpke4"
      },
      "execution_count": 127,
      "outputs": []
    },
    {
      "cell_type": "code",
      "source": [
        "class Graph:\n",
        "    def __init__(self):\n",
        "        self.values = []\n",
        "        global _graph\n",
        "        _graph = self\n",
        "\n",
        "    def __enter__(self):\n",
        "        return self\n",
        "    \n",
        "    def __exit__(self, exc_type, exc_value, traceback):\n",
        "        pass\n",
        "\n",
        "    def forward(self):\n",
        "        return self.values[0].forward()\n",
        "\n",
        "    def backward(self, var: DifferentiableValue):\n",
        "        graph = self.values.copy()\n",
        "        res = self.values[0].backward(var)\n",
        "        self.values = graph\n",
        "        return res\n",
        "\n",
        "def remove_copies(inputs = List[DifferentiableValue]):\n",
        "    for input in inputs:\n",
        "        for i, value in enumerate(_graph.values):\n",
        "            if value.id == input.id:\n",
        "                _graph.values.pop(i)"
      ],
      "metadata": {
        "id": "NBTQOAp-rzN4"
      },
      "execution_count": 128,
      "outputs": []
    },
    {
      "cell_type": "code",
      "source": [
        "class Constant(DifferentiableValue):\n",
        "    count = 0\n",
        "\n",
        "    def __init__(self, value, name = None):\n",
        "        _graph.values.append(self)\n",
        "        self.value = value\n",
        "        self.name = name\n",
        "        Constant.count += 1\n",
        "        self.id = Variable.count\n",
        "        self.gradient = None\n",
        "        \n",
        "    def backward(self, var: DifferentiableValue) -> DifferentiableValue:\n",
        "        return Constant(0)\n",
        "        \n",
        "    def forward(self) -> Any:\n",
        "        return self.value\n",
        "\n",
        "    def __repr__(self) -> str:\n",
        "        return f\"Constant('{self.name}' {self.value})\"\n",
        "\n",
        "class Variable(DifferentiableValue):\n",
        "    count = 0\n",
        "\n",
        "    def __init__(self, value = None, name = None):\n",
        "        _graph.values.append(self)\n",
        "        self._value = value\n",
        "        self.name = name\n",
        "        Variable.count += 1\n",
        "        self.id = Variable.count\n",
        "        self.gradient = None\n",
        "        \n",
        "    def backward(self, var: DifferentiableValue) -> DifferentiableValue:\n",
        "        if self == var:\n",
        "            return Constant(1)\n",
        "        return Constant(0)\n",
        "    \n",
        "    @property\n",
        "    def value(self):\n",
        "        return self._value\n",
        "    \n",
        "    @value.setter\n",
        "    def value(self, value):\n",
        "        if self.value == None:\n",
        "            raise ValueError(\"Variable does not have value\")\n",
        "        self._value = value\n",
        "        \n",
        "    def forward(self) -> Any:\n",
        "        if self.value == None:\n",
        "            raise ValueError(\"Variable does not have value\")\n",
        "        return self.value\n",
        "\n",
        "    def __repr__(self) -> str:\n",
        "        return f\"Variable('{self.name}' {self.value})\""
      ],
      "metadata": {
        "id": "jPRsl5tqqcQ4"
      },
      "execution_count": 129,
      "outputs": []
    },
    {
      "cell_type": "code",
      "source": [
        "class Sum(DifferentiableValue):\n",
        "    count = 0\n",
        "\n",
        "    def __init__(self, inputs = List[DifferentiableValue]):\n",
        "        remove_copies(inputs)\n",
        "        _graph.values.append(self)\n",
        "        self.inputs = inputs\n",
        "        Sum.count += 1\n",
        "        self.id = Variable.count\n",
        "        self.gradient = None\n",
        "        \n",
        "    def backward(self, var: DifferentiableValue) -> DifferentiableValue:\n",
        "        self.gradient = Sum([input.backward(var) for input in self.inputs]).forward()\n",
        "        return Sum([input.backward(var) for input in self.inputs])\n",
        "        \n",
        "    def forward(self) -> Any:\n",
        "        return sum([input.forward() for input in self.inputs])\n",
        "\n",
        "    def __repr__(self) -> str:\n",
        "        return \"Sum({}, g={})\".format(', '.join([str(input) for input in self.inputs]), self.gradient)\n",
        "\n",
        "class Product(DifferentiableValue):\n",
        "    count = 0\n",
        "\n",
        "    def __init__(self, left: DifferentiableValue, right:  DifferentiableValue):\n",
        "        remove_copies([left, right])\n",
        "        _graph.values.append(self)\n",
        "        self.inputs = [left, right]\n",
        "        Product.count += 1\n",
        "        self.id = Variable.count\n",
        "        self.gradient = None\n",
        "        \n",
        "    def backward(self, var: DifferentiableValue) -> DifferentiableValue:\n",
        "        self.gradient = (self.inputs[1].backward(var)*self.inputs[0] + self.inputs[0].backward(var)*self.inputs[1]).forward()\n",
        "        return self.inputs[1].backward(var)*self.inputs[0] + self.inputs[0].backward(var)*self.inputs[1]\n",
        "        \n",
        "    def forward(self) -> Any:\n",
        "        return reduce((lambda x, y: x * y), [input.forward() for input in self.inputs])\n",
        "\n",
        "    def __repr__(self) -> str:\n",
        "        return \"Product({}, g={})\".format(', '.join([str(input) for input in self.inputs]), self.gradient)\n",
        "\n",
        "class Power(DifferentiableValue):\n",
        "    count = 0\n",
        "\n",
        "    def __init__(self, base: DifferentiableValue, pow: DifferentiableValue):\n",
        "        remove_copies([base, pow])\n",
        "        _graph.values.append(self)\n",
        "        self.inputs = [base, pow]\n",
        "        Power.count += 1\n",
        "        self.id = Variable.count\n",
        "        self.gradient = None\n",
        "         \n",
        "    def backward(self, var: DifferentiableValue) -> DifferentiableValue:\n",
        "        if self.inputs[0] != var:\n",
        "            self.gradient = self.foward()\n",
        "            return self.foward()\n",
        "        self.gradient = (self.inputs[1] * (self.inputs[0] ** (self.inputs[1] + Constant(-1)*Constant(1)))).forward()\n",
        "        return self.inputs[1] * (self.inputs[0] ** (self.inputs[1] + Constant(-1)*Constant(1)))\n",
        "        \n",
        "    def forward(self) -> Any:\n",
        "        return self.inputs[0].forward() ** self.inputs[1].forward()\n",
        "\n",
        "    def __repr__(self) -> str:\n",
        "        return \"Power({}, g={})\".format(', '.join([str(input) for input in self.inputs]), self.gradient)\n",
        "\n",
        "class Quotient(DifferentiableValue):\n",
        "    count = 0\n",
        "\n",
        "    def __init__(self, left: DifferentiableValue, right:  DifferentiableValue):\n",
        "        remove_copies([left, right])\n",
        "        _graph.values.append(self)\n",
        "        self.inputs = [left, right]\n",
        "        Product.count += 1\n",
        "        self.id = Variable.count\n",
        "        self.gradient = None\n",
        "        \n",
        "    def backward(self, var: DifferentiableValue) -> DifferentiableValue:\n",
        "        numerator = self.inputs[1] * self.inputs[0].backward(var) + Constant(-1) * self.inputs[0] * self.inputs[1].backward(var)\n",
        "        denominator = self.inputs[1] ** Constant(2)\n",
        "        self.gradient = (numerator / denominator).forward()\n",
        "        return numerator / denominator\n",
        "        \n",
        "    def forward(self) -> Any:\n",
        "        return reduce((lambda x, y: x / y), [input.forward() for input in self.inputs])\n",
        "\n",
        "    def __repr__(self) -> str:\n",
        "        return \"Quotient({}, g={})\".format(', '.join([str(input) for input in self.inputs]), self.gradient)"
      ],
      "metadata": {
        "id": "lSeVTXmRx3Nb"
      },
      "execution_count": 130,
      "outputs": []
    },
    {
      "cell_type": "code",
      "source": [
        "DifferentiableValue.__add__ = lambda self, other: Sum([self, other])\n",
        "DifferentiableValue.__mul__ = lambda self, other: Product(self, other)\n",
        "DifferentiableValue.__truediv__ = lambda self, other: Quotient(self, other)\n",
        "DifferentiableValue.__pow__ = lambda self, other: Power(self, other)"
      ],
      "metadata": {
        "id": "_6v3wx-uzXXj"
      },
      "execution_count": 131,
      "outputs": []
    },
    {
      "cell_type": "code",
      "source": [
        "with Graph() as graph:\n",
        "    x = Variable(2, \"x\")\n",
        "    y = x*Constant(2)\n",
        "\n",
        "print(\"Graph:\")\n",
        "print(graph.values)\n",
        "print()\n",
        "\n",
        "print(\"Forward value:\")\n",
        "print(graph.forward())\n",
        "print()\n",
        "\n",
        "print(\"Backward graph:\")\n",
        "print(graph.backward(x))\n",
        "print(graph.values)\n",
        "print()\n",
        "\n",
        "print(\"Backward value:\")\n",
        "print(graph.backward(x).forward())\n",
        "\n",
        "del graph"
      ],
      "metadata": {
        "colab": {
          "base_uri": "https://localhost:8080/"
        },
        "id": "cLYOCXDCvsx9",
        "outputId": "0206a06d-b81f-42b2-8c6e-48f589ba2ec6"
      },
      "execution_count": 136,
      "outputs": [
        {
          "output_type": "stream",
          "name": "stdout",
          "text": [
            "Graph:\n",
            "[Product(Variable('x' 2), Constant('None' 2), g=None)]\n",
            "\n",
            "Forward value:\n",
            "4\n",
            "\n",
            "Backward graph:\n",
            "Sum(Product(Constant('None' 0), Variable('x' 2), g=None), Product(Constant('None' 1), Constant('None' 2), g=None), g=None)\n",
            "[Product(Variable('x' 2), Constant('None' 2), g=2)]\n",
            "\n",
            "Backward value:\n",
            "2\n"
          ]
        }
      ]
    }
  ]
}