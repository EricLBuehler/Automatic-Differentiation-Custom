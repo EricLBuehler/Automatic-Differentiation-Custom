{
  "cells": [
    {
      "cell_type": "markdown",
      "metadata": {
        "id": "view-in-github",
        "colab_type": "text"
      },
      "source": [
        "<a href=\"https://colab.research.google.com/github/EricLBuehler/Automatic-Differentiation-Custom/blob/main/autodiff.ipynb\" target=\"_parent\"><img src=\"https://colab.research.google.com/assets/colab-badge.svg\" alt=\"Open In Colab\"/></a>"
      ]
    },
    {
      "cell_type": "markdown",
      "metadata": {
        "id": "6PZkYrhKktTc"
      },
      "source": [
        "#Automatic Differentiation\n",
        "\n",
        "Automatic Differentiation is a core tool used to calculate derivatives which are key to machine learning. This is my personal implementation.\n",
        "\n",
        "Eric Buehler 2023"
      ]
    },
    {
      "cell_type": "code",
      "execution_count": 228,
      "metadata": {
        "id": "-CAtru2sknMQ"
      },
      "outputs": [],
      "source": [
        "#https://towardsdatascience.com/build-your-own-automatic-differentiation-program-6ecd585eec2a\n",
        "#https://e-dorigatti.github.io/math/deep%20learning/2020/04/07/autodiff.html\n",
        "#https://jingnanshi.com/blog/autodiff.html\n",
        "#https://github.com/karpathy/micrograd"
      ]
    },
    {
      "cell_type": "code",
      "execution_count": 229,
      "metadata": {
        "id": "T_UIIcR4pT-T"
      },
      "outputs": [],
      "source": [
        "from abc import ABC, abstractmethod\n",
        "from typing import *\n",
        "from functools import reduce\n",
        "import numpy as np"
      ]
    },
    {
      "cell_type": "markdown",
      "source": [
        "Define a base abstract class for all values, and a general operator class."
      ],
      "metadata": {
        "id": "geGY6CR4UcaM"
      }
    },
    {
      "cell_type": "code",
      "execution_count": 230,
      "metadata": {
        "id": "-z244F_fpke4"
      },
      "outputs": [],
      "source": [
        "class DifferentiableValue(ABC):\n",
        "    count = 0\n",
        "    def __init__(self):\n",
        "        DifferentiableValue.count += 1\n",
        "        self.id = DifferentiableValue.count \n",
        "\n",
        "    @abstractmethod\n",
        "    def backward(self, var):\n",
        "        pass\n",
        "\n",
        "    @abstractmethod\n",
        "    def forward(self):\n",
        "        pass\n",
        "\n",
        "    @abstractmethod\n",
        "    def __repr__(self) -> str:\n",
        "        pass\n",
        "\n",
        "class Operator(ABC):\n",
        "    pass"
      ]
    },
    {
      "cell_type": "markdown",
      "source": [
        "General function\n",
        "\n",
        "- `generate_topo` topographically sorts a graph, ensuring a directed acyclic graph."
      ],
      "metadata": {
        "id": "5OQJUq07UtJ9"
      }
    },
    {
      "cell_type": "code",
      "execution_count": 231,
      "metadata": {
        "id": "CJOjSKB2Qi0O"
      },
      "outputs": [],
      "source": [
        "def generate_topo(graph: DifferentiableValue) -> List[DifferentiableValue]:\n",
        "    topo = []\n",
        "    visited = set()\n",
        "    def build_topo(node: DifferentiableValue) -> List[DifferentiableValue]:\n",
        "        if node not in visited:\n",
        "            visited.add(node)\n",
        "            if hasattr(node, \"inputs\"):\n",
        "                for input in node.inputs:\n",
        "                    build_topo(input)\n",
        "            topo.append(node)\n",
        "        return topo\n",
        "    return build_topo(graph)"
      ]
    },
    {
      "cell_type": "markdown",
      "source": [
        "Define a graph to hold the operations, and a gradient graph to hold gradients."
      ],
      "metadata": {
        "id": "oIb72qpYUnJh"
      }
    },
    {
      "cell_type": "code",
      "execution_count": 232,
      "metadata": {
        "id": "NBTQOAp-rzN4"
      },
      "outputs": [],
      "source": [
        "class GradientGraph:\n",
        "    def __init__(self, graph: List[DifferentiableValue]):\n",
        "        self.graph = graph\n",
        "    \n",
        "    def wrt(self, var: DifferentiableValue) -> DifferentiableValue:\n",
        "        if var not in self.graph:\n",
        "            raise KeyError(f\"Variable {var} not found in gradient graph.\")\n",
        "        for v in self.graph:\n",
        "            if v == var:\n",
        "                return v\n",
        "\n",
        "    def __repr__(self):\n",
        "        return \"GradientGraph: {}\".format(\", \".join([str(item) for item in self.graph]))\n",
        "\n",
        "class Graph:\n",
        "    def __init__(self):\n",
        "        self.values = []\n",
        "        global _graph\n",
        "        _graph = self\n",
        "        self.has_backwarded = False\n",
        "\n",
        "    def __enter__(self):\n",
        "        return self\n",
        "    \n",
        "    def __exit__(self, exc_type, exc_value, traceback):\n",
        "        pass\n",
        "\n",
        "    def forward(self):\n",
        "        return self.values[0].forward()\n",
        "\n",
        "    def backward(self):\n",
        "        graph = self.values.copy()\n",
        "        res = self.values[0].backward()\n",
        "        self.values = graph\n",
        "        self.has_backwarded = True\n",
        "        return res\n",
        "    \n",
        "    def create_gradient_graph(self) -> GradientGraph:\n",
        "        assert self.backward\n",
        "\n",
        "        graph = self.values\n",
        "        filtered = set()\n",
        "        \n",
        "        for item in graph:\n",
        "            topo = generate_topo(item)\n",
        "            for value in topo:\n",
        "                if not (isinstance(value, Operator) and isinstance(value, Variable)):\n",
        "                    filtered.add(value)\n",
        "                \n",
        "        return GradientGraph(list(filtered))\n",
        "\n",
        "    def __repr__(self):\n",
        "        return \"Graph: {}\".format(\", \".join([str(item) for item in self.values]))"
      ]
    },
    {
      "cell_type": "markdown",
      "source": [
        "Define constant and variable values.\n",
        "\n",
        "The `.backward` functions return the derivative of constants and variables."
      ],
      "metadata": {
        "id": "U0ZoBayKWJLf"
      }
    },
    {
      "cell_type": "code",
      "execution_count": 233,
      "metadata": {
        "id": "jPRsl5tqqcQ4"
      },
      "outputs": [],
      "source": [
        "class Constant(DifferentiableValue):\n",
        "    count = 0\n",
        "\n",
        "    def __init__(self, value, name = None):\n",
        "        super().__init__()\n",
        "        self.value = value\n",
        "        self.name = name\n",
        "        Constant.count += 1\n",
        "        \n",
        "        self.gradient = 0\n",
        "        \n",
        "    def backward(self):\n",
        "        self.gradient = 0\n",
        "                \n",
        "        return _graph\n",
        "        \n",
        "    def forward(self) -> Any:\n",
        "        return self.value\n",
        "\n",
        "    def __repr__(self) -> str:\n",
        "        return f\"Constant('{self.name}' {self.value}, g={self.gradient})\"\n",
        "\n",
        "class Variable(DifferentiableValue):\n",
        "    count = 0\n",
        "\n",
        "    def __init__(self, value = None, name = None):\n",
        "        super().__init__()\n",
        "        self._value = value\n",
        "        self.name = name\n",
        "        Variable.count += 1\n",
        "        \n",
        "        self.gradient = 0\n",
        "        \n",
        "    def backward(self):\n",
        "        self.gradient = 1\n",
        "                \n",
        "        return self\n",
        "    \n",
        "    @property\n",
        "    def value(self):\n",
        "        return self._value\n",
        "    \n",
        "    @value.setter\n",
        "    def value(self, value):\n",
        "        if self.value == None:\n",
        "            raise ValueError(\"Variable does not have value\")\n",
        "        self._value = value\n",
        "        \n",
        "    def forward(self) -> Any:\n",
        "        if self.value == None:\n",
        "            raise ValueError(\"Variable does not have value\")\n",
        "        return self.value\n",
        "\n",
        "    def __repr__(self) -> str:\n",
        "        return f\"Variable('{self.name}' {self.value}, g={self.gradient})\""
      ]
    },
    {
      "cell_type": "markdown",
      "source": [
        "Define operation \"nodes\" that act like values.\n",
        "\n",
        "The `.backward` functions return the effective value after applying the chain rule, for sums, products, and powers.\n",
        "\n",
        "See https://jingnanshi.com/blog/autodiff.html for a great explanation.\n",
        "Note that the equations above table 1 show how the gradients are accumulated, like can be seen in the `_backward` functions."
      ],
      "metadata": {
        "id": "-JBZxTj5WrZ_"
      }
    },
    {
      "cell_type": "code",
      "execution_count": 234,
      "metadata": {
        "id": "lSeVTXmRx3Nb"
      },
      "outputs": [],
      "source": [
        "class Sum(DifferentiableValue, Operator):\n",
        "    count = 0\n",
        "\n",
        "    def __init__(self, left: DifferentiableValue, right:  DifferentiableValue):\n",
        "        super().__init__()\n",
        "        _graph.values.append(self)\n",
        "        self.inputs = [left, right]\n",
        "        Sum.count += 1\n",
        "        \n",
        "        self.gradient = 0\n",
        "\n",
        "        def _backward():\n",
        "            for input in self.inputs:\n",
        "                input.gradient += self.gradient\n",
        "\n",
        "        self._backward = _backward\n",
        "        \n",
        "    def backward(self):\n",
        "        topo = generate_topo(self)\n",
        "        \n",
        "        self.gradient = 1\n",
        "        for node in reversed(topo):\n",
        "            if hasattr(node, \"_backward\"):\n",
        "                node._backward()\n",
        "                \n",
        "        return self\n",
        "        \n",
        "    def forward(self) -> SupportsFloat:\n",
        "        return sum([input.forward() for input in self.inputs])\n",
        "    \n",
        "    def __repr__(self) -> str:\n",
        "        return \"Sum({}, g={})\".format(', '.join([str(input) for input in self.inputs]), self.gradient)\n",
        "\n",
        "class Product(DifferentiableValue, Operator):\n",
        "    count = 0\n",
        "\n",
        "    def __init__(self, left: DifferentiableValue, right:  DifferentiableValue):\n",
        "        super().__init__()\n",
        "        _graph.values.append(self)\n",
        "        self.inputs = [left, right]\n",
        "        Product.count += 1\n",
        "        \n",
        "        self.gradient = 0\n",
        "\n",
        "        def _backward():\n",
        "            self.inputs[0].gradient += self.inputs[1].forward() * self.gradient\n",
        "            self.inputs[1].gradient += self.inputs[0].forward() * self.gradient\n",
        "\n",
        "        self._backward = _backward\n",
        "        \n",
        "    def backward(self):\n",
        "        topo = generate_topo(self)\n",
        "        \n",
        "        self.gradient = 1\n",
        "        for node in reversed(topo):\n",
        "            if hasattr(node, \"_backward\"):\n",
        "                node._backward()\n",
        "                \n",
        "        return self\n",
        "        \n",
        "    def forward(self) -> SupportsFloat:\n",
        "        return reduce((lambda x, y: x * y), [input.forward() for input in self.inputs])\n",
        "\n",
        "    def __repr__(self) -> str:\n",
        "        return \"Product({}, g={})\".format(', '.join([str(input) for input in self.inputs]), self.gradient)\n",
        "\n",
        "class Power(DifferentiableValue, Operator):\n",
        "    count = 0\n",
        "\n",
        "    def __init__(self, base: DifferentiableValue, pow:  DifferentiableValue):\n",
        "        super().__init__()\n",
        "        _graph.values.append(self)\n",
        "        self.inputs = [base, pow]\n",
        "        Power.count += 1\n",
        "        \n",
        "        self.gradient = 0\n",
        "\n",
        "        def _backward():\n",
        "            self.inputs[0].gradient += (self.inputs[1].forward() * self.inputs[0].forward() ** (self.inputs[1] - 1).forward()) * self.gradient\n",
        "            self.inputs[1].gradient += np.log(self.inputs[0].forward()) * self.inputs[0].forward() ** (self.inputs[1].forward()) * self.gradient\n",
        "\n",
        "        self._backward = _backward\n",
        "        \n",
        "    def backward(self):\n",
        "        topo = generate_topo(self)\n",
        "        \n",
        "        self.gradient = 1\n",
        "        for node in reversed(topo):\n",
        "            if hasattr(node, \"_backward\"):\n",
        "                node._backward()\n",
        "                \n",
        "        return self\n",
        "        \n",
        "    def forward(self) -> SupportsFloat:\n",
        "        return reduce((lambda x, y: x ** y), [input.forward() for input in self.inputs])\n",
        "\n",
        "    def __repr__(self) -> str:\n",
        "        return \"Power({}, g={})\".format(', '.join([str(input) for input in self.inputs]), self.gradient)"
      ]
    },
    {
      "cell_type": "markdown",
      "source": [
        "Define a `generate_operation` function to act as a closure and preform runtime \"type replacement\" to convert `SupportsFloat` types into `DifferentiableValue`."
      ],
      "metadata": {
        "id": "6BOAQMjkYCEr"
      }
    },
    {
      "cell_type": "code",
      "execution_count": 235,
      "metadata": {
        "id": "_6v3wx-uzXXj"
      },
      "outputs": [],
      "source": [
        "def generate_operation(op, self: DifferentiableValue, other: Union[DifferentiableValue, SupportsFloat]):\n",
        "    if isinstance(other, DifferentiableValue):\n",
        "        return op(self, other)\n",
        "    if isinstance(other, (SupportsFloat)):\n",
        "        return op(self, Constant(other))\n",
        "    raise TypeError(f\"Incompatible type for operation: {type(other)}.\")\n",
        "\n",
        "DifferentiableValue.__add__ = lambda self, other: generate_operation(Sum, self, other)\n",
        "DifferentiableValue.__sub__ = lambda self, other: self + -other\n",
        "DifferentiableValue.__neg__ = lambda self: self * -1\n",
        "DifferentiableValue.__mul__ = lambda self, other: generate_operation(Product, self, other)\n",
        "DifferentiableValue.__pow__ = lambda self, other: generate_operation(Power, self, other)\n",
        "DifferentiableValue.__truediv__ = lambda self, other: self * (other ** -1)"
      ]
    },
    {
      "cell_type": "markdown",
      "source": [
        "Test case:"
      ],
      "metadata": {
        "id": "BaIiAP3-YXxk"
      }
    },
    {
      "cell_type": "code",
      "execution_count": 236,
      "metadata": {
        "colab": {
          "base_uri": "https://localhost:8080/"
        },
        "id": "cLYOCXDCvsx9",
        "outputId": "40b6111c-d999-46ce-fb01-9295c8b1c59a"
      },
      "outputs": [
        {
          "output_type": "stream",
          "name": "stdout",
          "text": [
            "Raw Graph:\n",
            "[Power(Variable('x' 2, g=0), Constant('None' 2, g=0), g=0)]\n",
            "\n",
            "Topological Graph:\n",
            "Variable('x' 2, g=0)\n",
            "Constant('None' 2, g=0)\n",
            "Power(Variable('x' 2, g=0), Constant('None' 2, g=0), g=0)\n",
            "\n",
            "Forward value:\n",
            "4\n",
            "\n",
            "Backward graph:\n",
            "[Power(Variable('x' 2, g=4), Constant('None' 2, g=2.772588722239781), g=1)]\n",
            "\n",
            "Variable('x' 2, g=4)\n"
          ]
        }
      ],
      "source": [
        "from re import X\n",
        "with Graph() as graph:\n",
        "    x = Variable(2, \"x\")\n",
        "    y = x**2\n",
        "    \n",
        "print(\"Raw Graph:\")\n",
        "print(graph.values)\n",
        "print()\n",
        "\n",
        "print(\"Topological Graph:\")\n",
        "topo = generate_topo(y)\n",
        "for item in topo:\n",
        "    print(item)\n",
        "print()\n",
        "\n",
        "print(\"Forward value:\")\n",
        "print(graph.forward())\n",
        "print()\n",
        "\n",
        "print(\"Backward graph:\")\n",
        "graph.backward()\n",
        "print(graph.values)\n",
        "print()\n",
        "\n",
        "grad_graph = graph.create_gradient_graph()\n",
        "print(grad_graph.wrt(x))\n",
        "\n",
        "del graph"
      ]
    }
  ],
  "metadata": {
    "colab": {
      "provenance": [],
      "include_colab_link": true
    },
    "kernelspec": {
      "display_name": "Python 3",
      "name": "python3"
    },
    "language_info": {
      "codemirror_mode": {
        "name": "ipython",
        "version": 3
      },
      "file_extension": ".py",
      "mimetype": "text/x-python",
      "name": "python",
      "nbconvert_exporter": "python",
      "pygments_lexer": "ipython3",
      "version": "3.8.10"
    }
  },
  "nbformat": 4,
  "nbformat_minor": 0
}