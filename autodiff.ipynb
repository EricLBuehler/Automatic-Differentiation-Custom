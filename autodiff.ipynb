{
  "cells": [
    {
      "cell_type": "markdown",
      "metadata": {
        "id": "view-in-github",
        "colab_type": "text"
      },
      "source": [
        "<a href=\"https://colab.research.google.com/github/EricLBuehler/Automatic-Differentiation-Custom/blob/main/autodiff.ipynb\" target=\"_parent\"><img src=\"https://colab.research.google.com/assets/colab-badge.svg\" alt=\"Open In Colab\"/></a>"
      ]
    },
    {
      "cell_type": "markdown",
      "metadata": {
        "id": "6PZkYrhKktTc"
      },
      "source": [
        "#Automatic Differentiation\n",
        "\n",
        "Automatic Differentiation is a core tool used to calculate derivatives which are key to machine learning. This is my personal implementation.\n",
        "\n",
        "Eric Buehler 2023"
      ]
    },
    {
      "cell_type": "code",
      "execution_count": null,
      "metadata": {
        "id": "-CAtru2sknMQ"
      },
      "outputs": [],
      "source": [
        "#https://towardsdatascience.com/build-your-own-automatic-differentiation-program-6ecd585eec2a\n",
        "#https://e-dorigatti.github.io/math/deep%20learning/2020/04/07/autodiff.html\n",
        "#https://jingnanshi.com/blog/autodiff.html"
      ]
    },
    {
      "cell_type": "code",
      "execution_count": null,
      "metadata": {
        "id": "T_UIIcR4pT-T"
      },
      "outputs": [],
      "source": [
        "from abc import ABC, abstractmethod\n",
        "from typing import *\n",
        "from functools import reduce\n",
        "import numpy as np"
      ]
    },
    {
      "cell_type": "code",
      "execution_count": null,
      "metadata": {
        "id": "-z244F_fpke4"
      },
      "outputs": [],
      "source": [
        "class DifferentiableValue(ABC):\n",
        "    count = 0\n",
        "    def __init__(self):\n",
        "        DifferentiableValue.count += 1\n",
        "        self.id = DifferentiableValue.count \n",
        "\n",
        "    @abstractmethod\n",
        "    def backward(self, var):\n",
        "        pass\n",
        "\n",
        "    @abstractmethod\n",
        "    def forward(self):\n",
        "        pass\n",
        "\n",
        "    @abstractmethod\n",
        "    def __repr__(self) -> str:\n",
        "        pass"
      ]
    },
    {
      "cell_type": "code",
      "execution_count": null,
      "metadata": {
        "id": "NBTQOAp-rzN4"
      },
      "outputs": [],
      "source": [
        "class Graph:\n",
        "    def __init__(self):\n",
        "        self.values = []\n",
        "        global _graph\n",
        "        _graph = self\n",
        "\n",
        "    def __enter__(self):\n",
        "        return self\n",
        "    \n",
        "    def __exit__(self, exc_type, exc_value, traceback):\n",
        "        pass\n",
        "\n",
        "    def forward(self):\n",
        "        return self.values[0].forward()\n",
        "\n",
        "    def backward(self):\n",
        "        graph = self.values.copy()\n",
        "        res = self.values[0].backward()\n",
        "        self.values = graph\n",
        "        return res\n",
        "\n",
        "    def get_gradient(self) -> List[Any]:\n",
        "        return list(filter(lambda item: item != None, self.values[0].get_gradient()))"
      ]
    },
    {
      "cell_type": "code",
      "execution_count": null,
      "metadata": {
        "id": "CJOjSKB2Qi0O"
      },
      "outputs": [],
      "source": [
        "def remove_copies(inputs = List[DifferentiableValue]):\n",
        "    for input in inputs:\n",
        "        for i, value in enumerate(_graph.values):\n",
        "            if value.id == input.id:\n",
        "                _graph.values.pop(i)\n",
        "\n",
        "def generate_topo(graph: DifferentiableValue) -> List[DifferentiableValue]:\n",
        "    topo = []\n",
        "    visited = set()\n",
        "    def build_topo(node: DifferentiableValue) -> List[DifferentiableValue]:\n",
        "        if node not in visited:\n",
        "            visited.add(node)\n",
        "            if hasattr(node, \"inputs\"):\n",
        "                for input in node.inputs:\n",
        "                    build_topo(input)\n",
        "            topo.append(node)\n",
        "        return topo\n",
        "    return build_topo(graph)"
      ]
    },
    {
      "cell_type": "code",
      "execution_count": null,
      "metadata": {
        "id": "jPRsl5tqqcQ4"
      },
      "outputs": [],
      "source": [
        "class Constant(DifferentiableValue):\n",
        "    count = 0\n",
        "\n",
        "    def __init__(self, value, name = None):\n",
        "        super().__init__()\n",
        "        _graph.values.append(self)\n",
        "        self.value = value\n",
        "        self.name = name\n",
        "        Constant.count += 1\n",
        "        \n",
        "        self.gradient = 0\n",
        "        \n",
        "    def backward(self):\n",
        "        self.gradient = 0\n",
        "        \n",
        "    def forward(self) -> Any:\n",
        "        return self.value\n",
        "\n",
        "    def get_gradient(self) -> List[Any]:\n",
        "        return [self.gradient]\n",
        "\n",
        "    def __repr__(self) -> str:\n",
        "        return f\"Constant('{self.name}' {self.value}, g={self.gradient})\"\n",
        "\n",
        "class Variable(DifferentiableValue):\n",
        "    count = 0\n",
        "\n",
        "    def __init__(self, value = None, name = None):\n",
        "        super().__init__()\n",
        "        _graph.values.append(self)\n",
        "        self._value = value\n",
        "        self.name = name\n",
        "        Variable.count += 1\n",
        "        \n",
        "        self.gradient = 0\n",
        "        \n",
        "    def backward(self):\n",
        "        self.gradient = 1\n",
        "    \n",
        "    @property\n",
        "    def value(self):\n",
        "        return self._value\n",
        "    \n",
        "    @value.setter\n",
        "    def value(self, value):\n",
        "        if self.value == None:\n",
        "            raise ValueError(\"Variable does not have value\")\n",
        "        self._value = value\n",
        "        \n",
        "    def forward(self) -> Any:\n",
        "        if self.value == None:\n",
        "            raise ValueError(\"Variable does not have value\")\n",
        "        return self.value\n",
        "\n",
        "    def get_gradient(self) -> List[Any]:\n",
        "        return [self.gradient]\n",
        "\n",
        "    def __repr__(self) -> str:\n",
        "        return f\"Variable('{self.name}' {self.value}, g={self.gradient})\""
      ]
    },
    {
      "cell_type": "code",
      "execution_count": null,
      "metadata": {
        "id": "lSeVTXmRx3Nb"
      },
      "outputs": [],
      "source": [
        "class Sum(DifferentiableValue):\n",
        "    count = 0\n",
        "\n",
        "    def __init__(self, left: DifferentiableValue, right:  DifferentiableValue):\n",
        "        super().__init__()\n",
        "        remove_copies([left, right])\n",
        "        _graph.values.append(self)\n",
        "        self.inputs = [left, right]\n",
        "        Sum.count += 1\n",
        "        \n",
        "        self.gradient = 0\n",
        "\n",
        "        def _backward():\n",
        "            for input in self.inputs:\n",
        "                input.gradient += self.gradient\n",
        "\n",
        "        self._backward = _backward\n",
        "        \n",
        "    def backward(self):\n",
        "        topo = generate_topo(self)\n",
        "        \n",
        "        self.gradient = 1\n",
        "        for node in reversed(topo):\n",
        "            if hasattr(node, \"_backward\"):\n",
        "                node._backward()\n",
        "        \n",
        "    def forward(self) -> SupportsFloat:\n",
        "        return sum([input.forward() for input in self.inputs])\n",
        "    \n",
        "    def __repr__(self) -> str:\n",
        "        return \"Sum({}, g={})\".format(', '.join([str(input) for input in self.inputs]), self.gradient)\n",
        "\n",
        "class Product(DifferentiableValue):\n",
        "    count = 0\n",
        "\n",
        "    def __init__(self, left: DifferentiableValue, right:  DifferentiableValue):\n",
        "        super().__init__()\n",
        "        remove_copies([left, right])\n",
        "        _graph.values.append(self)\n",
        "        self.inputs = [left, right]\n",
        "        Product.count += 1\n",
        "        \n",
        "        self.gradient = 0\n",
        "\n",
        "        def _backward():\n",
        "            self.inputs[0].gradient += self.inputs[1].forward() * self.gradient\n",
        "            self.inputs[1].gradient += self.inputs[0].forward() * self.gradient\n",
        "\n",
        "        self._backward = _backward\n",
        "        \n",
        "    def backward(self):\n",
        "        topo = generate_topo(self)\n",
        "        \n",
        "        self.gradient = 1\n",
        "        for node in reversed(topo):\n",
        "            if hasattr(node, \"_backward\"):\n",
        "                node._backward()\n",
        "        \n",
        "    def forward(self) -> SupportsFloat:\n",
        "        return reduce((lambda x, y: x * y), [input.forward() for input in self.inputs])\n",
        "\n",
        "    def __repr__(self) -> str:\n",
        "        return \"Product({}, g={})\".format(', '.join([str(input) for input in self.inputs]), self.gradient)\n",
        "\n",
        "class Power(DifferentiableValue):\n",
        "    count = 0\n",
        "\n",
        "    def __init__(self, base: DifferentiableValue, pow:  DifferentiableValue):\n",
        "        super().__init__()\n",
        "        remove_copies([base, pow])\n",
        "        _graph.values.append(self)\n",
        "        self.inputs = [base, pow]\n",
        "        Power.count += 1\n",
        "        \n",
        "        self.gradient = 0\n",
        "\n",
        "        def _backward():\n",
        "            self.inputs[0].gradient += (self.inputs[1].forward() * self.inputs[0].forward() ** (self.inputs[1] - 1).forward()) * self.gradient\n",
        "            self.inputs[1].gradient += np.log(self.inputs[0].forward()) * self.inputs[0].forward() ** (self.inputs[1].forward()) * self.gradient\n",
        "\n",
        "        self._backward = _backward\n",
        "        \n",
        "    def backward(self):\n",
        "        topo = generate_topo(self)\n",
        "        \n",
        "        self.gradient = 1\n",
        "        for node in reversed(topo):\n",
        "            if hasattr(node, \"_backward\"):\n",
        "                node._backward()\n",
        "        \n",
        "    def forward(self) -> SupportsFloat:\n",
        "        return reduce((lambda x, y: x ** y), [input.forward() for input in self.inputs])\n",
        "\n",
        "    def __repr__(self) -> str:\n",
        "        return \"Power({}, g={})\".format(', '.join([str(input) for input in self.inputs]), self.gradient)"
      ]
    },
    {
      "cell_type": "code",
      "execution_count": null,
      "metadata": {
        "id": "_6v3wx-uzXXj"
      },
      "outputs": [],
      "source": [
        "def generate_operation(op, self, other):\n",
        "    if isinstance(other, DifferentiableValue):\n",
        "        return op(self, other)\n",
        "    if isinstance(other, (SupportsFloat)):\n",
        "        return op(self, Constant(other))\n",
        "    raise TypeError(f\"Incompatible type for operation: {type(other)}.\")\n",
        "\n",
        "DifferentiableValue.__add__ = lambda self, other: generate_operation(Sum, self, other)\n",
        "DifferentiableValue.__sub__ = lambda self, other: self + -other\n",
        "DifferentiableValue.__neg__ = lambda self: self * -1\n",
        "DifferentiableValue.__mul__ = lambda self, other: generate_operation(Product, self, other)\n",
        "DifferentiableValue.__pow__ = lambda self, other: generate_operation(Power, self, other)\n",
        "DifferentiableValue.__truediv__ = lambda self, other: self * (other ** -1)"
      ]
    },
    {
      "cell_type": "code",
      "execution_count": null,
      "metadata": {
        "colab": {
          "base_uri": "https://localhost:8080/"
        },
        "id": "cLYOCXDCvsx9",
        "outputId": "9d453954-b718-4799-9b12-b8d4c2b60a5f"
      },
      "outputs": [
        {
          "name": "stdout",
          "output_type": "stream",
          "text": [
            "Raw Graph:\n",
            "[Power(Variable('x' 2, g=0), Constant('None' 2, g=0), g=0)]\n",
            "\n",
            "Topological Graph:\n",
            "Variable('x' 2, g=0)\n",
            "Constant('None' 2, g=0)\n",
            "Power(Variable('x' 2, g=0), Constant('None' 2, g=0), g=0)\n",
            "\n",
            "Forward value:\n",
            "4\n",
            "\n",
            "Backward graph:\n",
            "[Power(Variable('x' 2, g=4), Constant('None' 2, g=2.772588722239781), g=1)]\n",
            "\n"
          ]
        }
      ],
      "source": [
        "with Graph() as graph:\n",
        "    x = Variable(2, \"x\")\n",
        "    y = x**2\n",
        "    \n",
        "print(\"Raw Graph:\")\n",
        "print(graph.values)\n",
        "print()\n",
        "\n",
        "print(\"Topological Graph:\")\n",
        "topo = generate_topo(y)\n",
        "for item in topo:\n",
        "    print(item)\n",
        "print()\n",
        "\n",
        "print(\"Forward value:\")\n",
        "print(graph.forward())\n",
        "print()\n",
        "\n",
        "print(\"Backward graph:\")\n",
        "graph.backward()\n",
        "print(graph.values)\n",
        "print()\n",
        "\n",
        "del graph"
      ]
    }
  ],
  "metadata": {
    "colab": {
      "provenance": [],
      "include_colab_link": true
    },
    "kernelspec": {
      "display_name": "Python 3",
      "name": "python3"
    },
    "language_info": {
      "codemirror_mode": {
        "name": "ipython",
        "version": 3
      },
      "file_extension": ".py",
      "mimetype": "text/x-python",
      "name": "python",
      "nbconvert_exporter": "python",
      "pygments_lexer": "ipython3",
      "version": "3.8.10"
    }
  },
  "nbformat": 4,
  "nbformat_minor": 0
}