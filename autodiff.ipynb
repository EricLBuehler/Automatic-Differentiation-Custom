{
  "nbformat": 4,
  "nbformat_minor": 0,
  "metadata": {
    "colab": {
      "provenance": [],
      "authorship_tag": "ABX9TyPj5a0Z94zuf3i61bq8DMSq"
    },
    "kernelspec": {
      "name": "python3",
      "display_name": "Python 3"
    },
    "language_info": {
      "name": "python"
    }
  },
  "cells": [
    {
      "cell_type": "markdown",
      "source": [
        "#Automatic Differentiation\n",
        "\n",
        "Automatic Differentiation is a core tool used to calculate derivatives which are key to machine learning. This is my personal implementation.\n",
        "\n",
        "Eric Buehler 2023"
      ],
      "metadata": {
        "id": "6PZkYrhKktTc"
      }
    },
    {
      "cell_type": "code",
      "source": [
        "#https://towardsdatascience.com/build-your-own-automatic-differentiation-program-6ecd585eec2a\n",
        "#https://e-dorigatti.github.io/math/deep%20learning/2020/04/07/autodiff.html\n",
        "#https://jingnanshi.com/blog/autodiff.html"
      ],
      "metadata": {
        "id": "-CAtru2sknMQ"
      },
      "execution_count": null,
      "outputs": []
    },
    {
      "cell_type": "code",
      "execution_count": 523,
      "metadata": {
        "id": "T_UIIcR4pT-T"
      },
      "outputs": [],
      "source": [
        "from abc import ABC, abstractmethod\n",
        "from typing import *\n",
        "from functools import reduce"
      ]
    },
    {
      "cell_type": "code",
      "source": [
        "class DifferentiableValue(ABC):\n",
        "    @abstractmethod\n",
        "    def backward(self, var):\n",
        "        pass\n",
        "\n",
        "    @abstractmethod\n",
        "    def forward(self):\n",
        "        pass\n",
        "\n",
        "    @abstractmethod\n",
        "    def __repr__(self) -> str:\n",
        "        pass"
      ],
      "metadata": {
        "id": "-z244F_fpke4"
      },
      "execution_count": 524,
      "outputs": []
    },
    {
      "cell_type": "code",
      "source": [
        "class Graph:\n",
        "    def __init__(self):\n",
        "        self.values = []\n",
        "        global _graph\n",
        "        _graph = self\n",
        "\n",
        "    def __enter__(self):\n",
        "        return self\n",
        "    \n",
        "    def __exit__(self, exc_type, exc_value, traceback):\n",
        "        pass\n",
        "\n",
        "    def forward(self):\n",
        "        return self.values[0].forward()\n",
        "\n",
        "    def backward(self, var: DifferentiableValue):\n",
        "        graph = self.values.copy()\n",
        "        res = self.values[0].backward(var)\n",
        "        self.values = graph\n",
        "        return res\n",
        "\n",
        "def remove_copies(inputs = List[DifferentiableValue]):\n",
        "    for input in inputs:\n",
        "        for i, value in enumerate(_graph.values):\n",
        "            if value.id == input.id:\n",
        "                _graph.values.pop(i)"
      ],
      "metadata": {
        "id": "NBTQOAp-rzN4"
      },
      "execution_count": 525,
      "outputs": []
    },
    {
      "cell_type": "code",
      "source": [
        "class Constant(DifferentiableValue):\n",
        "    count = 0\n",
        "\n",
        "    def __init__(self, value, name = None):\n",
        "        _graph.values.append(self)\n",
        "        self.value = value\n",
        "        self.name = name\n",
        "        Constant.count += 1\n",
        "        self.id = Variable.count\n",
        "        \n",
        "    def backward(self, var: DifferentiableValue) -> DifferentiableValue:\n",
        "        return Constant(0)\n",
        "        \n",
        "    def forward(self) -> Any:\n",
        "        return self.value\n",
        "\n",
        "    def __repr__(self) -> str:\n",
        "        return f\"Constant('{self.name}' {self.value})\"\n",
        "\n",
        "class Variable(DifferentiableValue):\n",
        "    count = 0\n",
        "\n",
        "    def __init__(self, value = None, name = None):\n",
        "        _graph.values.append(self)\n",
        "        self._value = value\n",
        "        self.name = name\n",
        "        Variable.count += 1\n",
        "        self.id = Variable.count\n",
        "        \n",
        "    def backward(self, var: DifferentiableValue) -> DifferentiableValue:\n",
        "        if self == var:\n",
        "            return Constant(1)\n",
        "        return Constant(0)\n",
        "    \n",
        "    @property\n",
        "    def value(self):\n",
        "        return self._value\n",
        "    \n",
        "    @value.setter\n",
        "    def value(self, value):\n",
        "        if self.value == None:\n",
        "            raise ValueError(\"Variable does not have value\")\n",
        "        self._value = value\n",
        "        \n",
        "    def forward(self) -> Any:\n",
        "        if self.value == None:\n",
        "            raise ValueError(\"Variable does not have value\")\n",
        "        return self.value\n",
        "\n",
        "    def __repr__(self) -> str:\n",
        "        return f\"Variable('{self.name}' {self.value})\""
      ],
      "metadata": {
        "id": "jPRsl5tqqcQ4"
      },
      "execution_count": 526,
      "outputs": []
    },
    {
      "cell_type": "code",
      "source": [
        "class Sum(DifferentiableValue):\n",
        "    count = 0\n",
        "\n",
        "    def __init__(self, inputs = List[DifferentiableValue]):\n",
        "        remove_copies(inputs)\n",
        "        _graph.values.append(self)\n",
        "        self.inputs = inputs\n",
        "        Sum.count += 1\n",
        "        self.id = Variable.count\n",
        "        \n",
        "    def backward(self, var: DifferentiableValue) -> DifferentiableValue:\n",
        "        return Sum([input.backward(var) for input in self.inputs])\n",
        "        \n",
        "    def forward(self) -> Any:\n",
        "        return sum([input.forward() for input in self.inputs])\n",
        "\n",
        "    def __repr__(self) -> str:\n",
        "        return \"Sum({})\".format(', '.join([str(input) for input in self.inputs]))\n",
        "\n",
        "class Product(DifferentiableValue):\n",
        "    count = 0\n",
        "\n",
        "    def __init__(self, inputs = List[DifferentiableValue]):\n",
        "        remove_copies(inputs)\n",
        "        _graph.values.append(self)\n",
        "        self.inputs = inputs\n",
        "        Product.count += 1\n",
        "        self.id = Variable.count\n",
        "        \n",
        "    def backward(self, var: DifferentiableValue) -> DifferentiableValue:\n",
        "        return Sum([input.backward(var) for input in self.inputs])\n",
        "        \n",
        "    def forward(self) -> Any:\n",
        "        return reduce((lambda x, y: x * y), [input.forward() for input in self.inputs])\n",
        "\n",
        "    def __repr__(self) -> str:\n",
        "        return \"Product({})\".format(', '.join([str(input) for input in self.inputs]))\n",
        "\n",
        "class Power(DifferentiableValue):\n",
        "    count = 0\n",
        "\n",
        "    def __init__(self, base: DifferentiableValue, pow: DifferentiableValue):\n",
        "        remove_copies([base, pow])\n",
        "        _graph.values.append(self)\n",
        "        self.inputs = [base, pow]\n",
        "        Power.count += 1\n",
        "        self.id = Variable.count\n",
        "        \n",
        "    def backward(self, var: DifferentiableValue) -> DifferentiableValue:\n",
        "        return (self.inputs[0] * Constant(-1)*Constant(1)) ** self.inputs[1]\n",
        "        \n",
        "    def forward(self) -> Any:\n",
        "        return self.inputs[0].forward() ** self.inputs[1].forward()\n",
        "\n",
        "    def __repr__(self) -> str:\n",
        "        return \"Product({})\".format(', '.join([str(input) for input in self.inputs]))"
      ],
      "metadata": {
        "id": "lSeVTXmRx3Nb"
      },
      "execution_count": 527,
      "outputs": []
    },
    {
      "cell_type": "code",
      "source": [
        "DifferentiableValue.__add__ = lambda self, other: Sum([self, other])\n",
        "DifferentiableValue.__mul__ = lambda self, other: Product([self, other])\n",
        "DifferentiableValue.__pow__ = lambda self, other: Power(self, other)"
      ],
      "metadata": {
        "id": "_6v3wx-uzXXj"
      },
      "execution_count": 528,
      "outputs": []
    },
    {
      "cell_type": "code",
      "source": [
        "with Graph() as graph:\n",
        "    x = Variable(4, \"x\")\n",
        "    y = x**Constant(2) + x\n",
        "\n",
        "print(\"Graph:\")\n",
        "print(graph.values)\n",
        "print()\n",
        "\n",
        "print(\"Forward value:\")\n",
        "print(graph.forward())\n",
        "print()\n",
        "\n",
        "print(\"Backward graph:\")\n",
        "print(graph.backward(x))\n",
        "print()\n",
        "\n",
        "print(\"Backward value:\")\n",
        "print(graph.backward(x).forward())\n",
        "\n",
        "del graph"
      ],
      "metadata": {
        "colab": {
          "base_uri": "https://localhost:8080/"
        },
        "id": "cLYOCXDCvsx9",
        "outputId": "0f7237b2-4bf4-4a1a-de32-590b90a2383d"
      },
      "execution_count": 529,
      "outputs": [
        {
          "output_type": "stream",
          "name": "stdout",
          "text": [
            "Graph:\n",
            "[Sum(Product(Variable('x' 4), Constant('None' 2)), Variable('x' 4))]\n",
            "\n",
            "Forward value:\n",
            "20\n",
            "\n",
            "Backward graph:\n",
            "Sum(Product(Product(Product(Variable('x' 4), Constant('None' -1)), Constant('None' 1)), Constant('None' 2)), Constant('None' 1))\n",
            "\n",
            "Backward value:\n",
            "17\n"
          ]
        }
      ]
    }
  ]
}